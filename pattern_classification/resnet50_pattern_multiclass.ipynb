{
 "cells": [
  {
   "cell_type": "code",
   "execution_count": 1,
   "metadata": {},
   "outputs": [
    {
     "name": "stdout",
     "output_type": "stream",
     "text": [
      "hi\n"
     ]
    }
   ],
   "source": [
    "print('hi')"
   ]
  },
  {
   "cell_type": "code",
   "execution_count": 2,
   "metadata": {},
   "outputs": [],
   "source": [
    "import torch\n",
    "import torch.nn as nn\n",
    "import torch.optim as optim\n",
    "from torchvision import datasets, transforms, models\n",
    "from torch.utils.data import DataLoader"
   ]
  },
  {
   "cell_type": "code",
   "execution_count": 3,
   "metadata": {},
   "outputs": [],
   "source": [
    "# Set parameters\n",
    "from PIL import ImageFile\n",
    "\n",
    "ImageFile.LOAD_TRUNCATED_IMAGES = True\n",
    "img_width, img_height = 224, 224\n",
    "batch_size = 32\n",
    "epochs = 20\n",
    "num_classes = 47\n",
    "learning_rate = 0.0001\n",
    "\n",
    "# Define the data transforms\n",
    "data_transforms = {\n",
    "    'train': transforms.Compose([\n",
    "        transforms.RandomResizedCrop(img_width),\n",
    "        transforms.RandomHorizontalFlip(),\n",
    "        transforms.ToTensor(),\n",
    "        transforms.Normalize([0.485, 0.456, 0.406], [0.229, 0.224, 0.225])\n",
    "    ])\n",
    "    #,\n",
    "    #'val': transforms.Compose([\n",
    "     #   transforms.Resize(256),\n",
    "     #   transforms.CenterCrop(img_width),\n",
    "     #   transforms.ToTensor(),\n",
    "     #   transforms.Normalize([0.485, 0.456, 0.406], [0.229, 0.224, 0.225])\n",
    "    #]),\n",
    "}\n"
   ]
  },
  {
   "cell_type": "code",
   "execution_count": 4,
   "metadata": {},
   "outputs": [
    {
     "name": "stderr",
     "output_type": "stream",
     "text": [
      "/newstorage5/aayesha/venv/imgenv/lib/python3.10/site-packages/torchvision/models/_utils.py:208: UserWarning: The parameter 'pretrained' is deprecated since 0.13 and may be removed in the future, please use 'weights' instead.\n",
      "  warnings.warn(\n",
      "/newstorage5/aayesha/venv/imgenv/lib/python3.10/site-packages/torchvision/models/_utils.py:223: UserWarning: Arguments other than a weight enum or `None` for 'weights' are deprecated since 0.13 and may be removed in the future. The current behavior is equivalent to passing `weights=ResNet50_Weights.IMAGENET1K_V1`. You can also use `weights=ResNet50_Weights.DEFAULT` to get the most up-to-date weights.\n",
      "  warnings.warn(msg)\n"
     ]
    }
   ],
   "source": [
    "# Define the dataset directories\n",
    "train_data_dir = '/newstorage5/aayesha/deep_learning/classification/pattern_classification/pattern_dataset'\n",
    "#validation_data_dir = '/Users/aayeshaaayesha/Downloads/dtd/root/train'\n",
    "\n",
    "# Load the datasets\n",
    "train_dataset = datasets.ImageFolder(train_data_dir, transform=data_transforms['train'])\n",
    "#val_dataset = datasets.ImageFolder(validation_data_dir, transform=data_transforms['val'])\n",
    "\n",
    "# Data loaders\n",
    "train_loader = DataLoader(train_dataset, batch_size=batch_size, shuffle=True)\n",
    "#val_loader = DataLoader(val_dataset, batch_size=batch_size, shuffle=False, num_workers=4)\n",
    "\n",
    "# Load the ResNet50 model pre-trained on ImageNet\n",
    "model = models.resnet50(pretrained=True)\n",
    "\n",
    "# Modify the final fully connected layer to match the number of classes\n",
    "num_ftrs = model.fc.in_features\n",
    "model.fc = nn.Linear(num_ftrs, num_classes)\n",
    "\n",
    "# Define loss function and optimizer\n",
    "criterion = nn.CrossEntropyLoss()\n",
    "optimizer = optim.Adam(model.parameters(), lr=learning_rate)\n",
    "\n",
    "# Move the model to GPU if available\n",
    "device = torch.device(\"cuda:0\" if torch.cuda.is_available() else \"cpu\")\n",
    "model = model.to(device)\n",
    "\n"
   ]
  },
  {
   "cell_type": "code",
   "execution_count": 5,
   "metadata": {},
   "outputs": [
    {
     "name": "stdout",
     "output_type": "stream",
     "text": [
      "Epoch 1/20\n",
      "----------\n",
      "train Loss: 2.0548 Acc: 0.4768\n",
      "\n",
      "Epoch 2/20\n",
      "----------\n",
      "train Loss: 1.2351 Acc: 0.6438\n",
      "\n",
      "Epoch 3/20\n",
      "----------\n",
      "train Loss: 1.0232 Acc: 0.6968\n",
      "\n",
      "Epoch 4/20\n",
      "----------\n",
      "train Loss: 0.8764 Acc: 0.7378\n",
      "\n",
      "Epoch 5/20\n",
      "----------\n",
      "train Loss: 0.7550 Acc: 0.7713\n",
      "\n",
      "Epoch 6/20\n",
      "----------\n",
      "train Loss: 0.7080 Acc: 0.7817\n",
      "\n",
      "Epoch 7/20\n",
      "----------\n",
      "train Loss: 0.6407 Acc: 0.7998\n",
      "\n",
      "Epoch 8/20\n",
      "----------\n",
      "train Loss: 0.5723 Acc: 0.8225\n",
      "\n",
      "Epoch 9/20\n",
      "----------\n",
      "train Loss: 0.5169 Acc: 0.8383\n",
      "\n",
      "Epoch 10/20\n",
      "----------\n",
      "train Loss: 0.4798 Acc: 0.8537\n",
      "\n",
      "Epoch 11/20\n",
      "----------\n",
      "train Loss: 0.4592 Acc: 0.8535\n",
      "\n",
      "Epoch 12/20\n",
      "----------\n",
      "train Loss: 0.4377 Acc: 0.8601\n",
      "\n",
      "Epoch 13/20\n",
      "----------\n",
      "train Loss: 0.3788 Acc: 0.8869\n",
      "\n",
      "Epoch 14/20\n",
      "----------\n",
      "train Loss: 0.3824 Acc: 0.8824\n",
      "\n",
      "Epoch 15/20\n",
      "----------\n",
      "train Loss: 0.3381 Acc: 0.8973\n",
      "\n",
      "Epoch 16/20\n",
      "----------\n",
      "train Loss: 0.3474 Acc: 0.8952\n",
      "\n",
      "Epoch 17/20\n",
      "----------\n",
      "train Loss: 0.3477 Acc: 0.8895\n",
      "\n",
      "Epoch 18/20\n",
      "----------\n",
      "train Loss: 0.3242 Acc: 0.8968\n",
      "\n",
      "Epoch 19/20\n",
      "----------\n",
      "train Loss: 0.3101 Acc: 0.9087\n",
      "\n",
      "Epoch 20/20\n",
      "----------\n",
      "train Loss: 0.3091 Acc: 0.9051\n",
      "\n"
     ]
    }
   ],
   "source": [
    "# Training loop\n",
    "for epoch in range(epochs):\n",
    "    print(f'Epoch {epoch+1}/{epochs}')\n",
    "    print('-' * 10)\n",
    "\n",
    "    # Each epoch has a training and validation phase\n",
    "    #for phase in ['train', 'val']:\n",
    "    for phase in ['train']:\n",
    "        if phase == 'train':\n",
    "            model.train()  # Set model to training mode\n",
    "            dataloader = train_loader\n",
    "        #else:\n",
    "         #   model.eval()  # Set model to evaluate mode\n",
    "          #  dataloader = val_loader\n",
    "\n",
    "        running_loss = 0.0\n",
    "        running_corrects = 0\n",
    "\n",
    "        # Iterate over data\n",
    "        for inputs, labels in dataloader:\n",
    "            inputs = inputs.to(device)\n",
    "            labels = labels.to(device)\n",
    "\n",
    "            # Zero the parameter gradients\n",
    "            optimizer.zero_grad()\n",
    "\n",
    "            # Forward pass\n",
    "            with torch.set_grad_enabled(phase == 'train'):\n",
    "                outputs = model(inputs)\n",
    "                _, preds = torch.max(outputs, 1)\n",
    "                loss = criterion(outputs, labels)\n",
    "\n",
    "                # Backward pass and optimize only if in training phase\n",
    "                if phase == 'train':\n",
    "                    loss.backward()\n",
    "                    optimizer.step()\n",
    "\n",
    "            # Statistics\n",
    "            running_loss += loss.item() * inputs.size(0)\n",
    "            running_corrects += torch.sum(preds == labels.data)\n",
    "\n",
    "        epoch_loss = running_loss / len(dataloader.dataset)\n",
    "        epoch_acc = running_corrects.double() / len(dataloader.dataset)\n",
    "\n",
    "        print(f'{phase} Loss: {epoch_loss:.4f} Acc: {epoch_acc:.4f}')\n",
    "\n",
    "    print()"
   ]
  },
  {
   "cell_type": "code",
   "execution_count": 47,
   "metadata": {},
   "outputs": [
    {
     "name": "stdout",
     "output_type": "stream",
     "text": [
      "tensor([ 4, 15, 41,  2,  7, 44, 23, 33], device='cuda:0')\n"
     ]
    }
   ],
   "source": [
    "print(labels)"
   ]
  },
  {
   "cell_type": "code",
   "execution_count": null,
   "metadata": {},
   "outputs": [],
   "source": [
    "# Save the trained model\n",
    "#torch.save(model.state_dict(), 'resnet50_custom_pattern_multiclass_model_20Epochs.pth')"
   ]
  },
  {
   "cell_type": "code",
   "execution_count": 1,
   "metadata": {},
   "outputs": [
    {
     "ename": "NameError",
     "evalue": "name 'torch' is not defined",
     "output_type": "error",
     "traceback": [
      "\u001b[0;31m---------------------------------------------------------------------------\u001b[0m",
      "\u001b[0;31mNameError\u001b[0m                                 Traceback (most recent call last)",
      "Cell \u001b[0;32mIn[1], line 4\u001b[0m\n\u001b[1;32m      1\u001b[0m \u001b[38;5;28;01mfrom\u001b[39;00m \u001b[38;5;21;01mPIL\u001b[39;00m \u001b[38;5;28;01mimport\u001b[39;00m Image\n\u001b[1;32m      3\u001b[0m \u001b[38;5;66;03m# Check if GPU is available and use it, otherwise fallback to CPU\u001b[39;00m\n\u001b[0;32m----> 4\u001b[0m device \u001b[38;5;241m=\u001b[39m \u001b[43mtorch\u001b[49m\u001b[38;5;241m.\u001b[39mdevice(\u001b[38;5;124m'\u001b[39m\u001b[38;5;124mcuda\u001b[39m\u001b[38;5;124m'\u001b[39m \u001b[38;5;28;01mif\u001b[39;00m torch\u001b[38;5;241m.\u001b[39mcuda\u001b[38;5;241m.\u001b[39mis_available() \u001b[38;5;28;01melse\u001b[39;00m \u001b[38;5;124m'\u001b[39m\u001b[38;5;124mcpu\u001b[39m\u001b[38;5;124m'\u001b[39m)\n\u001b[1;32m      6\u001b[0m \u001b[38;5;66;03m# Load the ResNet-50 model and move it to the appropriate device\u001b[39;00m\n\u001b[1;32m      7\u001b[0m \u001b[38;5;66;03m#model = models.resnet50(pretrained=True)\u001b[39;00m\n\u001b[1;32m      8\u001b[0m model \u001b[38;5;241m=\u001b[39m model\u001b[38;5;241m.\u001b[39mto(device)  \u001b[38;5;66;03m# Move the mode\u001b[39;00m\n",
      "\u001b[0;31mNameError\u001b[0m: name 'torch' is not defined"
     ]
    }
   ],
   "source": [
    "\n",
    "from PIL import Image\n",
    "\n",
    "# Check if GPU is available and use it, otherwise fallback to CPU\n",
    "device = torch.device('cuda' if torch.cuda.is_available() else 'cpu')\n",
    "\n",
    "# Load the ResNet-50 model and move it to the appropriate device\n",
    "#model = models.resnet50(pretrained=True)\n",
    "model = model.to(device)  # Move the mode\n",
    "model.eval()  # Set the model to evaluation mode\n",
    "\n",
    "# Define the image transformations (e.g., resize, normalize)\n",
    "transform = transforms.Compose([\n",
    "    transforms.Resize((224, 224)),  # Resize image to the expected input size for ResNet-50\n",
    "    transforms.ToTensor(),  # Convert the image to a PyTorch tensor\n",
    "    transforms.Normalize(mean=[0.485, 0.456, 0.406], std=[0.229, 0.224, 0.225])  # Normalize the image\n",
    "])\n",
    "\n",
    "# Load the image\n",
    "image = Image.open('/newstorage5/aayesha/red_zigzag.jpg')  # Replace 'input_image.jpg' with your image file path\n",
    "image = transform(image)  # Apply the transformations\n",
    "image = image.unsqueeze(0).to(device)  # Add a batch dimension and move to the appropriate device\n",
    "\n",
    "# Perform inference\n",
    "with torch.no_grad():\n",
    "    output = model(image)  # Pass the image through the model\n",
    "\n",
    "# Interpret the output\n",
    "_, predicted = torch.max(output, 1)\n",
    "print(predicted)\n",
    "print(f'Predicted class: {predicted.item()}')\n",
    "x = predicted.item()\n",
    "print(x)\n"
   ]
  },
  {
   "cell_type": "code",
   "execution_count": 56,
   "metadata": {},
   "outputs": [
    {
     "name": "stdout",
     "output_type": "stream",
     "text": [
      "studded\n"
     ]
    }
   ],
   "source": [
    "dir_path = \"/newstorage5/aayesha/deep_learning/classification/pattern_classification/pattern_dataset\"\n",
    "import os\n",
    "i = -2\n",
    "sorted_items = sorted(os.listdir(dir_path))\n",
    "for name in sorted_items:\n",
    "    #print(dir_path+\"/\"+name)\n",
    "    i = i + 1\n",
    "    if i == x:\n",
    "        y = dir_path+\"/\"+name\n",
    "        print(name)\n"
   ]
  }
 ],
 "metadata": {
  "kernelspec": {
   "display_name": "imgenv",
   "language": "python",
   "name": "python3"
  },
  "language_info": {
   "codemirror_mode": {
    "name": "ipython",
    "version": 3
   },
   "file_extension": ".py",
   "mimetype": "text/x-python",
   "name": "python",
   "nbconvert_exporter": "python",
   "pygments_lexer": "ipython3",
   "version": "3.10.12"
  }
 },
 "nbformat": 4,
 "nbformat_minor": 2
}
